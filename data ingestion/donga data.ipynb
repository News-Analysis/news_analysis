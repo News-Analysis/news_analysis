{
 "cells": [
  {
   "cell_type": "code",
   "execution_count": 26,
   "metadata": {},
   "outputs": [],
   "source": [
    "import requests\n",
    "from bs4 import BeautifulSoup\n",
    "import pandas as pd\n",
    "from bs4.element import NavigableString\n",
    "donga=[]\n",
    "dongpage=\"https://www.donga.com/news/Politics/List?p=1&prod=news&ymd=&m=NP\"\n",
    "num=1\n",
    "donganew = pd.DataFrame({\"날짜\":[],\"제목\":[],\"언론사\":[],\"기자\":[],\"본문\":[]})\n",
    "while(1):\n",
    "    strnum=str(num)\n",
    "    raw= requests.get(\"https://www.donga.com/news/Politics/List?p=\"+strnum+\"&prod=news&ymd=&m=NP\")\n",
    "    html = BeautifulSoup(raw.text,\"html.parser\")\n",
    "    html.find_all({\"div\"},{\"class\":\"rightList\"})\n",
    "    for href in html.find_all({\"div\",\"a\"},{\"class\":\"rightList\"}):\n",
    "        donga.append(href.find(\"a\")[\"href\"])\n",
    "    num+=20\n",
    "    if(len(donga)==1000):\n",
    "        break\n",
    "for i in donga:\n",
    "    raw = requests.get(i)\n",
    "    html = BeautifulSoup(raw.text,\"html.parser\")\n",
    "    target_tag=html.find(\"div\",{\"class\":\"article_txt\"})\n",
    "    target_text_without_child_tags = [\n",
    "        bs_object\n",
    "        for bs_object\n",
    "        in target_tag\n",
    "        if isinstance(bs_object,NavigableString)\n",
    "    ]\n",
    "    text1 = \"\".join(target_text_without_child_tags)\n",
    "    donganew=donganew.append({'날짜':html.find(\"span\",{\"class\":\"date01\"}).text.replace(\"입력 \",\"\"),'제목':html.find(\"h1\",{\"class\":\"title\"}).text,\"언론사\":\"동아일보\",\"기자\":html.find(\"span\",{\"class\":\"report\"}).text,\"본문\":text1},ignore_index=True)\n",
    "donganew.to_csv(\"donganew.csv\",encoding='utf-8-sig')        "
   ]
  },
  {
   "cell_type": "code",
   "execution_count": null,
   "metadata": {},
   "outputs": [],
   "source": []
  }
 ],
 "metadata": {
  "kernelspec": {
   "display_name": "Python 3",
   "language": "python",
   "name": "python3"
  },
  "language_info": {
   "codemirror_mode": {
    "name": "ipython",
    "version": 3
   },
   "file_extension": ".py",
   "mimetype": "text/x-python",
   "name": "python",
   "nbconvert_exporter": "python",
   "pygments_lexer": "ipython3",
   "version": "3.7.6"
  }
 },
 "nbformat": 4,
 "nbformat_minor": 4
}
