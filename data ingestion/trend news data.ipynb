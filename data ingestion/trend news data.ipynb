{
 "cells": [
  {
   "cell_type": "code",
   "execution_count": 1,
   "metadata": {},
   "outputs": [],
   "source": [
    "import requests\n",
    "from bs4 import BeautifulSoup\n",
    "import pandas as pd\n",
    "trend=[]\n",
    "trendpage=\"http://news.khan.co.kr/kh_news/khan_art_list.html?code=910000&page=1\"\n",
    "num=1\n",
    "trendnews = pd.DataFrame({\"날짜\":[],\"제목\":[],\"언론사\":[],\"기자\":[],\"본문\":[]})\n",
    "while(1):\n",
    "    strnum=str(num)\n",
    "    raw=requests.get(\"http://news.khan.co.kr/kh_news/khan_art_list.html?code=910000&page=\"+strnum,headers={\"User-Agent\":\"Mozilla/5,0\"})\n",
    "    html = BeautifulSoup(raw.text,\"html.parser\")\n",
    "\n",
    "    html.find_all(\"strong\",{\"class\":\"hd_title\"})\n",
    "\n",
    "    for href in html.find_all(\"strong\",{\"class\":\"hd_title\"}):\n",
    "        trend.append(href.find(\"a\")[\"href\"])\n",
    "    num+=1\n",
    "    if(len(trend)>1000):\n",
    "        break\n",
    "for i in range(len(trend)):\n",
    "    raw = requests.get(\"http:\"+trend[i],headers={\"User-Agent\":\"Mozilla/5,0\"})\n",
    "    html = BeautifulSoup(raw.text,\"html.parser\")\n",
    "    content=html.find_all(\"p\",{\"class\":\"content_text\"})\n",
    "    text1=[]\n",
    "    for j in content:\n",
    "        text1.append(j.text)\n",
    "    text1=\"\".join(text1)\n",
    "    try:\n",
    "        trendnews = trendnews.append({\"날짜\":html.find(\"em\").text.replace(\"입력 : \",\"\"),\"제목\":html.select_one(\"#article_title\").text,\"언론사\":\"경향신문\",\"기자\":html.select_one(\"#container > div.art_header.borderless > div.subject > span > a\").text,\"본문\":text1},ignore_index=True)\n",
    "    except:\n",
    "        continue\n",
    "trendnews.to_csv(\"trendnews.csv\",encoding='utf-8-sig')"
   ]
  }
 ],
 "metadata": {
  "kernelspec": {
   "display_name": "Python 3",
   "language": "python",
   "name": "python3"
  },
  "language_info": {
   "codemirror_mode": {
    "name": "ipython",
    "version": 3
   },
   "file_extension": ".py",
   "mimetype": "text/x-python",
   "name": "python",
   "nbconvert_exporter": "python",
   "pygments_lexer": "ipython3",
   "version": "3.7.6"
  }
 },
 "nbformat": 4,
 "nbformat_minor": 4
}
