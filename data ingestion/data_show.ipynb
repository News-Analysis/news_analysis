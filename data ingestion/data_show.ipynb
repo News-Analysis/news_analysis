{
 "cells": [
  {
   "cell_type": "code",
   "execution_count": 1,
   "metadata": {},
   "outputs": [],
   "source": [
    "import pandas as pd"
   ]
  },
  {
   "cell_type": "code",
   "execution_count": 8,
   "metadata": {},
   "outputs": [],
   "source": [
    "'''\n",
    "data info and print\n",
    "'''\n",
    "def show_josun():\n",
    "    josun = pd.read_csv('./data/josun.csv')\n",
    "    print(josun.info())\n",
    "    print(josun)"
   ]
  },
  {
   "cell_type": "code",
   "execution_count": 23,
   "metadata": {},
   "outputs": [],
   "source": [
    "'''\n",
    "원하는 row 출력\n",
    "end 값 미입력시 하나의 row만 출력\n",
    "'''\n",
    "def selec_show(start, end=None):\n",
    "    josun = pd.read_csv('./data/josun.csv')\n",
    "    if end is None:\n",
    "        print(josun.iloc[start])\n",
    "    else:\n",
    "        print(josun.iloc[start:end])"
   ]
  },
  {
   "cell_type": "code",
   "execution_count": 21,
   "metadata": {},
   "outputs": [
    {
     "name": "stdout",
     "output_type": "stream",
     "text": [
      "<class 'pandas.core.frame.DataFrame'>\n",
      "RangeIndex: 1158 entries, 0 to 1157\n",
      "Data columns (total 4 columns):\n",
      " #   Column    Non-Null Count  Dtype \n",
      "---  ------    --------------  ----- \n",
      " 0   date      1158 non-null   object\n",
      " 1   title     1158 non-null   object\n",
      " 2   reporter  1116 non-null   object\n",
      " 3   content   1158 non-null   object\n",
      "dtypes: object(4)\n",
      "memory usage: 36.3+ KB\n",
      "None\n",
      "            date                                              title  \\\n",
      "0     2021.04.08                김영환 “문재인 대통령은 패배 뒤에 숨지 말고 ‘석고대죄’해야”   \n",
      "1     2021.04.18              진중권, 與 남녀평등 군복무에 “이대남을 ‘조삼모사’ 원숭이 취급”   \n",
      "2     2021.03.25  [강인선·배성규의 모닝라이브] 박영선의 수성이냐 오세훈의 탈환이냐…막오른 서울시장 ...   \n",
      "3     2021.04.14     [강인선·배성규의 모닝라이브] “安 건방지다”던 김종인, 윤석열과는 ‘케미’ 통할까   \n",
      "4     2021.04.02               재보선 첫날 사전투표율 9.14%…2018년 지방선거 때보다 높다   \n",
      "...          ...                                                ...   \n",
      "1153  2021.04.15                박진 “백신 기다리다 지친 국민들…외교 역량 총동원해 확보해야”   \n",
      "1154  2021.04.09                 이준석 “부동산 적폐청산? 文정권 의사결정권자들 청산하면 돼”   \n",
      "1155  2021.04.25                거꾸로 매달리고, 그네서 탕탕... 러 특수부대원들의 사격 신공   \n",
      "1156  2021.04.02                      박병석 국회의장, 타지키스탄 찾아 수력발전 협력 논의   \n",
      "1157  2021.04.15                  文 지지율 1주일새 5%p 하락… 윤석열 지지율 5%p 올라   \n",
      "\n",
      "        reporter                                            content  \n",
      "0         김명성 기자  김영환 더불어민주당 전 의원은 7일 서울·부산 재보궐 선거에서 야권의 압승이 예상되...  \n",
      "1         주희연 기자  진중권 전 동양대 교수는 18일 ‘남녀평등복무제’를 도입하자는 더불어민주당 박용진 ...  \n",
      "2        강인선 부국장  조선일보 데일리팟캐스트 ‘강인선·배성규의 모닝라이브’가 25일 더불어민주당 박영선 ...  \n",
      "3        강인선 부국장  조선일보의 데일리 팟캐스트 ‘강인선·배성규의 모닝라이브’가 4·7 서울·부산시장 보...  \n",
      "4         김은경 기자  4·7 재·보궐선거 사전투표 첫날인 2일 전국 투표율은 9.14%였다.\\n중앙선거관...  \n",
      "...          ...                                                ...  \n",
      "1153      노석조 기자  국민의힘 박진 의원은 15일 야당과 전문가 집단을 포함한 민관 합동 대표단을 파견하...  \n",
      "1154      서유근 기자  국민의힘 이준석 전 최고위원이 9일 문재인 대통령의 “부동산 부패 청산을 실현하는데...  \n",
      "1155  유용원 군사전문기자  거꾸로 매달리거나 그네를 타면서 총을 쏘는 러시아 특수부대의 ‘이색적인’ 사격훈련 ...  \n",
      "1156      김승재 기자  박병석 국회의장이 타지키스탄 의회 상원의장과 만나 수력발전을 비롯한 양국 간 협력 ...  \n",
      "1157      허유진 기자  문재인 대통령이 4·7 서울·부산시장 보궐선거 참패 후 민십 수습에 나섰지만 지지율...  \n",
      "\n",
      "[1158 rows x 4 columns]\n"
     ]
    }
   ],
   "source": [
    "show_josun()"
   ]
  },
  {
   "cell_type": "code",
   "execution_count": 22,
   "metadata": {},
   "outputs": [
    {
     "name": "stdout",
     "output_type": "stream",
     "text": [
      "date                                               2021.03.25\n",
      "title       [강인선·배성규의 모닝라이브] 박영선의 수성이냐 오세훈의 탈환이냐…막오른 서울시장 ...\n",
      "reporter                                              강인선 부국장\n",
      "content     조선일보 데일리팟캐스트 ‘강인선·배성규의 모닝라이브’가 25일 더불어민주당 박영선 ...\n",
      "Name: 2, dtype: object\n"
     ]
    }
   ],
   "source": [
    "selec_show(2)"
   ]
  }
 ],
 "metadata": {
  "kernelspec": {
   "display_name": "Python 3",
   "language": "python",
   "name": "python3"
  },
  "language_info": {
   "codemirror_mode": {
    "name": "ipython",
    "version": 3
   },
   "file_extension": ".py",
   "mimetype": "text/x-python",
   "name": "python",
   "nbconvert_exporter": "python",
   "pygments_lexer": "ipython3",
   "version": "3.8.5"
  }
 },
 "nbformat": 4,
 "nbformat_minor": 4
}
